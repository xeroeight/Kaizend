{
 "cells": [
  {
   "cell_type": "code",
   "execution_count": 1,
   "metadata": {},
   "outputs": [],
   "source": [
    "import pandas as pd\n",
    "import numpy as np\n",
    "import matplotlib.pyplot as plt\n",
    "import matplotlib\n",
    "%matplotlib inline"
   ]
  },
  {
   "cell_type": "code",
   "execution_count": 4,
   "metadata": {},
   "outputs": [],
   "source": [
    "fn = \"input/wikipedia_edits.csv.zip\"\n",
    "df = pd.read_csv(fn)"
   ]
  },
  {
   "cell_type": "code",
   "execution_count": 5,
   "metadata": {},
   "outputs": [
    {
     "data": {
      "text/plain": [
       "789343"
      ]
     },
     "execution_count": 5,
     "metadata": {},
     "output_type": "execute_result"
    }
   ],
   "source": [
    "len(df)"
   ]
  },
  {
   "cell_type": "code",
   "execution_count": 6,
   "metadata": {},
   "outputs": [
    {
     "data": {
      "text/html": [
       "<div>\n",
       "<style scoped>\n",
       "    .dataframe tbody tr th:only-of-type {\n",
       "        vertical-align: middle;\n",
       "    }\n",
       "\n",
       "    .dataframe tbody tr th {\n",
       "        vertical-align: top;\n",
       "    }\n",
       "\n",
       "    .dataframe thead th {\n",
       "        text-align: right;\n",
       "    }\n",
       "</style>\n",
       "<table border=\"1\" class=\"dataframe\">\n",
       "  <thead>\n",
       "    <tr style=\"text-align: right;\">\n",
       "      <th></th>\n",
       "      <th>title</th>\n",
       "      <th>parentid</th>\n",
       "      <th>revid</th>\n",
       "      <th>timestamp</th>\n",
       "      <th>user</th>\n",
       "      <th>userid</th>\n",
       "      <th>size</th>\n",
       "      <th>recipient</th>\n",
       "      <th>year</th>\n",
       "      <th>rank</th>\n",
       "      <th>country</th>\n",
       "      <th>career</th>\n",
       "      <th>tied</th>\n",
       "    </tr>\n",
       "  </thead>\n",
       "  <tbody>\n",
       "    <tr>\n",
       "      <td>0</td>\n",
       "      <td>50_Cent</td>\n",
       "      <td>858765697</td>\n",
       "      <td>858858564</td>\n",
       "      <td>2018-09-10T02:52:25Z</td>\n",
       "      <td>ProspectIV</td>\n",
       "      <td>33893830.0</td>\n",
       "      <td>132452</td>\n",
       "      <td>50 Cent</td>\n",
       "      <td>2006</td>\n",
       "      <td>8</td>\n",
       "      <td>United States</td>\n",
       "      <td>Musician</td>\n",
       "      <td>0</td>\n",
       "    </tr>\n",
       "    <tr>\n",
       "      <td>1</td>\n",
       "      <td>50_Cent</td>\n",
       "      <td>858673799</td>\n",
       "      <td>858765697</td>\n",
       "      <td>2018-09-09T13:11:00Z</td>\n",
       "      <td>ProspectIV</td>\n",
       "      <td>33893830.0</td>\n",
       "      <td>132476</td>\n",
       "      <td>50 Cent</td>\n",
       "      <td>2006</td>\n",
       "      <td>8</td>\n",
       "      <td>United States</td>\n",
       "      <td>Musician</td>\n",
       "      <td>0</td>\n",
       "    </tr>\n",
       "    <tr>\n",
       "      <td>2</td>\n",
       "      <td>50_Cent</td>\n",
       "      <td>858673121</td>\n",
       "      <td>858673799</td>\n",
       "      <td>2018-09-08T21:46:42Z</td>\n",
       "      <td>ProspectIV</td>\n",
       "      <td>33893830.0</td>\n",
       "      <td>132444</td>\n",
       "      <td>50 Cent</td>\n",
       "      <td>2006</td>\n",
       "      <td>8</td>\n",
       "      <td>United States</td>\n",
       "      <td>Musician</td>\n",
       "      <td>0</td>\n",
       "    </tr>\n",
       "    <tr>\n",
       "      <td>3</td>\n",
       "      <td>50_Cent</td>\n",
       "      <td>858673016</td>\n",
       "      <td>858673121</td>\n",
       "      <td>2018-09-08T21:39:37Z</td>\n",
       "      <td>ProspectIV</td>\n",
       "      <td>33893830.0</td>\n",
       "      <td>132345</td>\n",
       "      <td>50 Cent</td>\n",
       "      <td>2006</td>\n",
       "      <td>8</td>\n",
       "      <td>United States</td>\n",
       "      <td>Musician</td>\n",
       "      <td>0</td>\n",
       "    </tr>\n",
       "    <tr>\n",
       "      <td>4</td>\n",
       "      <td>50_Cent</td>\n",
       "      <td>858469414</td>\n",
       "      <td>858673016</td>\n",
       "      <td>2018-09-08T21:38:24Z</td>\n",
       "      <td>ProspectIV</td>\n",
       "      <td>33893830.0</td>\n",
       "      <td>132345</td>\n",
       "      <td>50 Cent</td>\n",
       "      <td>2006</td>\n",
       "      <td>8</td>\n",
       "      <td>United States</td>\n",
       "      <td>Musician</td>\n",
       "      <td>0</td>\n",
       "    </tr>\n",
       "  </tbody>\n",
       "</table>\n",
       "</div>"
      ],
      "text/plain": [
       "     title   parentid      revid             timestamp        user  \\\n",
       "0  50_Cent  858765697  858858564  2018-09-10T02:52:25Z  ProspectIV   \n",
       "1  50_Cent  858673799  858765697  2018-09-09T13:11:00Z  ProspectIV   \n",
       "2  50_Cent  858673121  858673799  2018-09-08T21:46:42Z  ProspectIV   \n",
       "3  50_Cent  858673016  858673121  2018-09-08T21:39:37Z  ProspectIV   \n",
       "4  50_Cent  858469414  858673016  2018-09-08T21:38:24Z  ProspectIV   \n",
       "\n",
       "       userid    size recipient  year  rank        country    career  tied  \n",
       "0  33893830.0  132452   50 Cent  2006     8  United States  Musician     0  \n",
       "1  33893830.0  132476   50 Cent  2006     8  United States  Musician     0  \n",
       "2  33893830.0  132444   50 Cent  2006     8  United States  Musician     0  \n",
       "3  33893830.0  132345   50 Cent  2006     8  United States  Musician     0  \n",
       "4  33893830.0  132345   50 Cent  2006     8  United States  Musician     0  "
      ]
     },
     "execution_count": 6,
     "metadata": {},
     "output_type": "execute_result"
    }
   ],
   "source": [
    "df.head()"
   ]
  },
  {
   "cell_type": "code",
   "execution_count": 7,
   "metadata": {},
   "outputs": [],
   "source": [
    "df[\"timestamp\"] = pd.to_datetime(df[\"timestamp\"])"
   ]
  },
  {
   "cell_type": "code",
   "execution_count": 8,
   "metadata": {},
   "outputs": [
    {
     "data": {
      "text/html": [
       "<div>\n",
       "<style scoped>\n",
       "    .dataframe tbody tr th:only-of-type {\n",
       "        vertical-align: middle;\n",
       "    }\n",
       "\n",
       "    .dataframe tbody tr th {\n",
       "        vertical-align: top;\n",
       "    }\n",
       "\n",
       "    .dataframe thead th {\n",
       "        text-align: right;\n",
       "    }\n",
       "</style>\n",
       "<table border=\"1\" class=\"dataframe\">\n",
       "  <thead>\n",
       "    <tr style=\"text-align: right;\">\n",
       "      <th></th>\n",
       "      <th>title</th>\n",
       "      <th>parentid</th>\n",
       "      <th>revid</th>\n",
       "      <th>timestamp</th>\n",
       "      <th>user</th>\n",
       "      <th>userid</th>\n",
       "      <th>size</th>\n",
       "      <th>recipient</th>\n",
       "      <th>year</th>\n",
       "      <th>rank</th>\n",
       "      <th>country</th>\n",
       "      <th>career</th>\n",
       "      <th>tied</th>\n",
       "    </tr>\n",
       "  </thead>\n",
       "  <tbody>\n",
       "    <tr>\n",
       "      <td>0</td>\n",
       "      <td>50_Cent</td>\n",
       "      <td>858765697</td>\n",
       "      <td>858858564</td>\n",
       "      <td>2018-09-10 02:52:25+00:00</td>\n",
       "      <td>ProspectIV</td>\n",
       "      <td>33893830.0</td>\n",
       "      <td>132452</td>\n",
       "      <td>50 Cent</td>\n",
       "      <td>2006</td>\n",
       "      <td>8</td>\n",
       "      <td>United States</td>\n",
       "      <td>Musician</td>\n",
       "      <td>0</td>\n",
       "    </tr>\n",
       "    <tr>\n",
       "      <td>1</td>\n",
       "      <td>50_Cent</td>\n",
       "      <td>858673799</td>\n",
       "      <td>858765697</td>\n",
       "      <td>2018-09-09 13:11:00+00:00</td>\n",
       "      <td>ProspectIV</td>\n",
       "      <td>33893830.0</td>\n",
       "      <td>132476</td>\n",
       "      <td>50 Cent</td>\n",
       "      <td>2006</td>\n",
       "      <td>8</td>\n",
       "      <td>United States</td>\n",
       "      <td>Musician</td>\n",
       "      <td>0</td>\n",
       "    </tr>\n",
       "    <tr>\n",
       "      <td>2</td>\n",
       "      <td>50_Cent</td>\n",
       "      <td>858673121</td>\n",
       "      <td>858673799</td>\n",
       "      <td>2018-09-08 21:46:42+00:00</td>\n",
       "      <td>ProspectIV</td>\n",
       "      <td>33893830.0</td>\n",
       "      <td>132444</td>\n",
       "      <td>50 Cent</td>\n",
       "      <td>2006</td>\n",
       "      <td>8</td>\n",
       "      <td>United States</td>\n",
       "      <td>Musician</td>\n",
       "      <td>0</td>\n",
       "    </tr>\n",
       "    <tr>\n",
       "      <td>3</td>\n",
       "      <td>50_Cent</td>\n",
       "      <td>858673016</td>\n",
       "      <td>858673121</td>\n",
       "      <td>2018-09-08 21:39:37+00:00</td>\n",
       "      <td>ProspectIV</td>\n",
       "      <td>33893830.0</td>\n",
       "      <td>132345</td>\n",
       "      <td>50 Cent</td>\n",
       "      <td>2006</td>\n",
       "      <td>8</td>\n",
       "      <td>United States</td>\n",
       "      <td>Musician</td>\n",
       "      <td>0</td>\n",
       "    </tr>\n",
       "    <tr>\n",
       "      <td>4</td>\n",
       "      <td>50_Cent</td>\n",
       "      <td>858469414</td>\n",
       "      <td>858673016</td>\n",
       "      <td>2018-09-08 21:38:24+00:00</td>\n",
       "      <td>ProspectIV</td>\n",
       "      <td>33893830.0</td>\n",
       "      <td>132345</td>\n",
       "      <td>50 Cent</td>\n",
       "      <td>2006</td>\n",
       "      <td>8</td>\n",
       "      <td>United States</td>\n",
       "      <td>Musician</td>\n",
       "      <td>0</td>\n",
       "    </tr>\n",
       "  </tbody>\n",
       "</table>\n",
       "</div>"
      ],
      "text/plain": [
       "     title   parentid      revid                 timestamp        user  \\\n",
       "0  50_Cent  858765697  858858564 2018-09-10 02:52:25+00:00  ProspectIV   \n",
       "1  50_Cent  858673799  858765697 2018-09-09 13:11:00+00:00  ProspectIV   \n",
       "2  50_Cent  858673121  858673799 2018-09-08 21:46:42+00:00  ProspectIV   \n",
       "3  50_Cent  858673016  858673121 2018-09-08 21:39:37+00:00  ProspectIV   \n",
       "4  50_Cent  858469414  858673016 2018-09-08 21:38:24+00:00  ProspectIV   \n",
       "\n",
       "       userid    size recipient  year  rank        country    career  tied  \n",
       "0  33893830.0  132452   50 Cent  2006     8  United States  Musician     0  \n",
       "1  33893830.0  132476   50 Cent  2006     8  United States  Musician     0  \n",
       "2  33893830.0  132444   50 Cent  2006     8  United States  Musician     0  \n",
       "3  33893830.0  132345   50 Cent  2006     8  United States  Musician     0  \n",
       "4  33893830.0  132345   50 Cent  2006     8  United States  Musician     0  "
      ]
     },
     "execution_count": 8,
     "metadata": {},
     "output_type": "execute_result"
    }
   ],
   "source": [
    "df.head()"
   ]
  },
  {
   "cell_type": "code",
   "execution_count": 9,
   "metadata": {},
   "outputs": [],
   "source": [
    "title = \"Manny_Pacquiao\"\n",
    "df_sub = df[df[\"title\"]==title]"
   ]
  },
  {
   "cell_type": "code",
   "execution_count": 10,
   "metadata": {},
   "outputs": [
    {
     "data": {
      "text/plain": [
       "8917"
      ]
     },
     "execution_count": 10,
     "metadata": {},
     "output_type": "execute_result"
    }
   ],
   "source": [
    "len(df_sub)"
   ]
  },
  {
   "cell_type": "code",
   "execution_count": 19,
   "metadata": {},
   "outputs": [
    {
     "data": {
      "text/html": [
       "<div>\n",
       "<style scoped>\n",
       "    .dataframe tbody tr th:only-of-type {\n",
       "        vertical-align: middle;\n",
       "    }\n",
       "\n",
       "    .dataframe tbody tr th {\n",
       "        vertical-align: top;\n",
       "    }\n",
       "\n",
       "    .dataframe thead th {\n",
       "        text-align: right;\n",
       "    }\n",
       "</style>\n",
       "<table border=\"1\" class=\"dataframe\">\n",
       "  <thead>\n",
       "    <tr style=\"text-align: right;\">\n",
       "      <th></th>\n",
       "      <th>title</th>\n",
       "      <th>parentid</th>\n",
       "      <th>revid</th>\n",
       "      <th>timestamp</th>\n",
       "      <th>user</th>\n",
       "      <th>userid</th>\n",
       "      <th>size</th>\n",
       "      <th>recipient</th>\n",
       "      <th>year</th>\n",
       "      <th>rank</th>\n",
       "      <th>country</th>\n",
       "      <th>career</th>\n",
       "      <th>tied</th>\n",
       "    </tr>\n",
       "  </thead>\n",
       "  <tbody>\n",
       "    <tr>\n",
       "      <td>477505</td>\n",
       "      <td>Manny_Pacquiao</td>\n",
       "      <td>858923775</td>\n",
       "      <td>858924908</td>\n",
       "      <td>2018-09-10 15:07:25+00:00</td>\n",
       "      <td>MroWikipedian</td>\n",
       "      <td>34478357.0</td>\n",
       "      <td>96240</td>\n",
       "      <td>Manny Pacquiao</td>\n",
       "      <td>2015</td>\n",
       "      <td>2</td>\n",
       "      <td>Philippines</td>\n",
       "      <td>Sportsperson (Boxing)</td>\n",
       "      <td>0</td>\n",
       "    </tr>\n",
       "    <tr>\n",
       "      <td>477506</td>\n",
       "      <td>Manny_Pacquiao</td>\n",
       "      <td>858393401</td>\n",
       "      <td>858923775</td>\n",
       "      <td>2018-09-10 14:57:58+00:00</td>\n",
       "      <td>MroWikipedian</td>\n",
       "      <td>34478357.0</td>\n",
       "      <td>95925</td>\n",
       "      <td>Manny Pacquiao</td>\n",
       "      <td>2015</td>\n",
       "      <td>2</td>\n",
       "      <td>Philippines</td>\n",
       "      <td>Sportsperson (Boxing)</td>\n",
       "      <td>0</td>\n",
       "    </tr>\n",
       "    <tr>\n",
       "      <td>477507</td>\n",
       "      <td>Manny_Pacquiao</td>\n",
       "      <td>858392991</td>\n",
       "      <td>858393401</td>\n",
       "      <td>2018-09-06 21:20:17+00:00</td>\n",
       "      <td>Tbb 911</td>\n",
       "      <td>7097402.0</td>\n",
       "      <td>95879</td>\n",
       "      <td>Manny Pacquiao</td>\n",
       "      <td>2015</td>\n",
       "      <td>2</td>\n",
       "      <td>Philippines</td>\n",
       "      <td>Sportsperson (Boxing)</td>\n",
       "      <td>0</td>\n",
       "    </tr>\n",
       "    <tr>\n",
       "      <td>477508</td>\n",
       "      <td>Manny_Pacquiao</td>\n",
       "      <td>858165549</td>\n",
       "      <td>858392991</td>\n",
       "      <td>2018-09-06 21:16:11+00:00</td>\n",
       "      <td>Tbb 911</td>\n",
       "      <td>7097402.0</td>\n",
       "      <td>95954</td>\n",
       "      <td>Manny Pacquiao</td>\n",
       "      <td>2015</td>\n",
       "      <td>2</td>\n",
       "      <td>Philippines</td>\n",
       "      <td>Sportsperson (Boxing)</td>\n",
       "      <td>0</td>\n",
       "    </tr>\n",
       "    <tr>\n",
       "      <td>477509</td>\n",
       "      <td>Manny_Pacquiao</td>\n",
       "      <td>858165135</td>\n",
       "      <td>858165549</td>\n",
       "      <td>2018-09-05 14:23:28+00:00</td>\n",
       "      <td>PinoyBoxing11</td>\n",
       "      <td>15621670.0</td>\n",
       "      <td>95951</td>\n",
       "      <td>Manny Pacquiao</td>\n",
       "      <td>2015</td>\n",
       "      <td>2</td>\n",
       "      <td>Philippines</td>\n",
       "      <td>Sportsperson (Boxing)</td>\n",
       "      <td>0</td>\n",
       "    </tr>\n",
       "  </tbody>\n",
       "</table>\n",
       "</div>"
      ],
      "text/plain": [
       "                 title   parentid      revid                 timestamp  \\\n",
       "477505  Manny_Pacquiao  858923775  858924908 2018-09-10 15:07:25+00:00   \n",
       "477506  Manny_Pacquiao  858393401  858923775 2018-09-10 14:57:58+00:00   \n",
       "477507  Manny_Pacquiao  858392991  858393401 2018-09-06 21:20:17+00:00   \n",
       "477508  Manny_Pacquiao  858165549  858392991 2018-09-06 21:16:11+00:00   \n",
       "477509  Manny_Pacquiao  858165135  858165549 2018-09-05 14:23:28+00:00   \n",
       "\n",
       "                 user      userid   size       recipient  year  rank  \\\n",
       "477505  MroWikipedian  34478357.0  96240  Manny Pacquiao  2015     2   \n",
       "477506  MroWikipedian  34478357.0  95925  Manny Pacquiao  2015     2   \n",
       "477507        Tbb 911   7097402.0  95879  Manny Pacquiao  2015     2   \n",
       "477508        Tbb 911   7097402.0  95954  Manny Pacquiao  2015     2   \n",
       "477509  PinoyBoxing11  15621670.0  95951  Manny Pacquiao  2015     2   \n",
       "\n",
       "            country                 career  tied  \n",
       "477505  Philippines  Sportsperson (Boxing)     0  \n",
       "477506  Philippines  Sportsperson (Boxing)     0  \n",
       "477507  Philippines  Sportsperson (Boxing)     0  \n",
       "477508  Philippines  Sportsperson (Boxing)     0  \n",
       "477509  Philippines  Sportsperson (Boxing)     0  "
      ]
     },
     "execution_count": 19,
     "metadata": {},
     "output_type": "execute_result"
    }
   ],
   "source": [
    "df_sub.head()"
   ]
  },
  {
   "cell_type": "code",
   "execution_count": 48,
   "metadata": {},
   "outputs": [],
   "source": [
    "date_min = df_sub[\"timestamp\"].min()\n",
    "date_max = df_sub[\"timestamp\"].max()"
   ]
  },
  {
   "cell_type": "code",
   "execution_count": 49,
   "metadata": {},
   "outputs": [
    {
     "data": {
      "text/plain": [
       "(Timestamp('2004-08-20 23:50:38+0000', tz='UTC'),\n",
       " Timestamp('2018-09-10 15:07:25+0000', tz='UTC'))"
      ]
     },
     "execution_count": 49,
     "metadata": {},
     "output_type": "execute_result"
    }
   ],
   "source": [
    "date_min, date_max"
   ]
  },
  {
   "cell_type": "code",
   "execution_count": 50,
   "metadata": {},
   "outputs": [
    {
     "data": {
      "text/plain": [
       "'Date range: 08/20/2004 to 09/10/2018'"
      ]
     },
     "execution_count": 50,
     "metadata": {},
     "output_type": "execute_result"
    }
   ],
   "source": [
    "'Date range: {:%m/%d/%Y} to {:%m/%d/%Y}'.format(date_min, date_max)"
   ]
  },
  {
   "cell_type": "code",
   "execution_count": 52,
   "metadata": {},
   "outputs": [],
   "source": [
    "df_daily = df_sub.groupby(\"timestamp\")[\"revid\"].agg([len])"
   ]
  },
  {
   "cell_type": "code",
   "execution_count": 53,
   "metadata": {},
   "outputs": [
    {
     "data": {
      "text/html": [
       "<div>\n",
       "<style scoped>\n",
       "    .dataframe tbody tr th:only-of-type {\n",
       "        vertical-align: middle;\n",
       "    }\n",
       "\n",
       "    .dataframe tbody tr th {\n",
       "        vertical-align: top;\n",
       "    }\n",
       "\n",
       "    .dataframe thead th {\n",
       "        text-align: right;\n",
       "    }\n",
       "</style>\n",
       "<table border=\"1\" class=\"dataframe\">\n",
       "  <thead>\n",
       "    <tr style=\"text-align: right;\">\n",
       "      <th></th>\n",
       "      <th>len</th>\n",
       "    </tr>\n",
       "    <tr>\n",
       "      <th>timestamp</th>\n",
       "      <th></th>\n",
       "    </tr>\n",
       "  </thead>\n",
       "  <tbody>\n",
       "    <tr>\n",
       "      <td>2004-08-20 23:50:38+00:00</td>\n",
       "      <td>1</td>\n",
       "    </tr>\n",
       "    <tr>\n",
       "      <td>2004-08-20 23:52:12+00:00</td>\n",
       "      <td>1</td>\n",
       "    </tr>\n",
       "    <tr>\n",
       "      <td>2004-08-20 23:53:19+00:00</td>\n",
       "      <td>1</td>\n",
       "    </tr>\n",
       "    <tr>\n",
       "      <td>2004-08-20 23:56:12+00:00</td>\n",
       "      <td>1</td>\n",
       "    </tr>\n",
       "    <tr>\n",
       "      <td>2004-08-20 23:57:47+00:00</td>\n",
       "      <td>1</td>\n",
       "    </tr>\n",
       "  </tbody>\n",
       "</table>\n",
       "</div>"
      ],
      "text/plain": [
       "                           len\n",
       "timestamp                     \n",
       "2004-08-20 23:50:38+00:00    1\n",
       "2004-08-20 23:52:12+00:00    1\n",
       "2004-08-20 23:53:19+00:00    1\n",
       "2004-08-20 23:56:12+00:00    1\n",
       "2004-08-20 23:57:47+00:00    1"
      ]
     },
     "execution_count": 53,
     "metadata": {},
     "output_type": "execute_result"
    }
   ],
   "source": [
    "df_daily.head()"
   ]
  },
  {
   "cell_type": "code",
   "execution_count": 54,
   "metadata": {},
   "outputs": [],
   "source": [
    "x = df_daily.index"
   ]
  },
  {
   "cell_type": "code",
   "execution_count": 55,
   "metadata": {},
   "outputs": [],
   "source": [
    "y = df_daily[\"len\"]"
   ]
  },
  {
   "cell_type": "code",
   "execution_count": 56,
   "metadata": {},
   "outputs": [
    {
     "data": {
      "image/png": "[encoded data removed]",
      "text/plain": [
       "<Figure size 1296x432 with 1 Axes>"
      ]
     },
     "metadata": {
      "needs_background": "light"
     },
     "output_type": "display_data"
    }
   ],
   "source": [
    "plt.figure(figsize=(18,6))\n",
    "plt.plot(x,y, color='black')\n",
    "plt.ylabel(\"No, of Wikipedia Edits\")\n",
    "plt.title(\"Daily Counts for %s\" % title)\n",
    "plt.minorticks_on()"
   ]
  },
  {
   "cell_type": "code",
   "execution_count": 57,
   "metadata": {},
   "outputs": [],
   "source": [
    "df_MP = df[df[\"title\"] == \"Manny_Pacquiao\"]\n",
    "df_FM = df[df[\"title\"] == \"Floyd_Mayweather_Jr.\"]"
   ]
  },
  {
   "cell_type": "code",
   "execution_count": 58,
   "metadata": {},
   "outputs": [],
   "source": [
    "df_daily_MP = df_MP.groupby(\"timestamp\")[\"revid\"].agg([len])\n",
    "df_daily_FM = df_FM.groupby(\"timestamp\")[\"revid\"].agg([len])"
   ]
  },
  {
   "cell_type": "code",
   "execution_count": 59,
   "metadata": {},
   "outputs": [],
   "source": [
    "x_MP = df_daily_MP.index\n",
    "x_FM = df_daily_FM.index"
   ]
  },
  {
   "cell_type": "code",
   "execution_count": 60,
   "metadata": {},
   "outputs": [],
   "source": [
    "y_MP = df_daily_MP[\"len\"]\n",
    "y_FM = df_daily_FM[\"len\"]"
   ]
  },
  {
   "cell_type": "code",
   "execution_count": 64,
   "metadata": {},
   "outputs": [
    {
     "data": {
      "image/png": "[encoded data removed]",
      "text/plain": [
       "<Figure size 1296x432 with 1 Axes>"
      ]
     },
     "metadata": {
      "needs_background": "light"
     },
     "output_type": "display_data"
    }
   ],
   "source": [
    "plt.figure(figsize=(18,6))\n",
    "plt.plot(x_MP, y_MP, color = \"black\")\n",
    "plt.plot(x_FM, y_FM, color = \"red\")\n",
    "plt.ylabel(\"No. of Wikipedia Edits\")\n",
    "plt.title(\"Daily Counts for Manny Pacquiao (Black) and Floyd Mayweather Jr. (Red)\")\n",
    "plt.minorticks_on()"
   ]
  },
  {
   "cell_type": "code",
   "execution_count": 65,
   "metadata": {},
   "outputs": [],
   "source": [
    "date_start = pd.to_datetime(\"2015,01,01\")\n",
    "date_end = pd.to_datetime(\"2015/12/31\")"
   ]
  },
  {
   "cell_type": "code",
   "execution_count": 67,
   "metadata": {},
   "outputs": [
    {
     "data": {
      "text/plain": [
       "(735599.0, 735963.0)"
      ]
     },
     "execution_count": 67,
     "metadata": {},
     "output_type": "execute_result"
    },
    {
     "data": {
      "image/png": "[encoded data removed]",
      "text/plain": [
       "<Figure size 1296x432 with 1 Axes>"
      ]
     },
     "metadata": {
      "needs_background": "light"
     },
     "output_type": "display_data"
    }
   ],
   "source": [
    "plt.figure(figsize=(18,6))\n",
    "plt.plot(x_MP, y_MP, 'k-')\n",
    "plt.plot(x_FM, y_FM, 'r-')\n",
    "plt.ylabel(\"No. of Wikipedia Edits\")\n",
    "plt.title(\"Daily Counts for Manny Pacquiao (Black) and Floyd Mayweather Jr. (Red)\")\n",
    "plt.minorticks_on()\n",
    "plt.xlim((date_start, date_end))"
   ]
  },
  {
   "cell_type": "code",
   "execution_count": 68,
   "metadata": {},
   "outputs": [
    {
     "data": {
      "text/plain": [
       "(0, 55)"
      ]
     },
     "execution_count": 68,
     "metadata": {},
     "output_type": "execute_result"
    },
    {
     "data": {
      "image/png": "[encoded data removed]",
      "text/plain": [
       "<Figure size 1296x432 with 1 Axes>"
      ]
     },
     "metadata": {
      "needs_background": "light"
     },
     "output_type": "display_data"
    }
   ],
   "source": [
    "plt.figure(figsize=(18,6))\n",
    "plt.plot(x_MP, y_MP, 'k-')\n",
    "plt.plot(x_FM, y_FM, 'r-')\n",
    "plt.ylabel(\"No. of Wikipedia Edits\")\n",
    "plt.title(\"Daily Counts for Manny Pacquiao (Black) and Floyd Mayweather Jr. (Red)\")\n",
    "plt.minorticks_on()\n",
    "plt.xlim((date_start, date_end))\n",
    "plt.ylim((0, 55))"
   ]
  },
  {
   "cell_type": "code",
   "execution_count": 69,
   "metadata": {},
   "outputs": [
    {
     "name": "stderr",
     "output_type": "stream",
     "text": [
      "No handles with labels found to put in legend.\n"
     ]
    },
    {
     "data": {
      "text/plain": [
       "<matplotlib.legend.Legend at 0x24800f433c8>"
      ]
     },
     "execution_count": 69,
     "metadata": {},
     "output_type": "execute_result"
    },
    {
     "data": {
      "image/png": "[encoded data removed]",
      "text/plain": [
       "<Figure size 1296x432 with 1 Axes>"
      ]
     },
     "metadata": {
      "needs_background": "light"
     },
     "output_type": "display_data"
    }
   ],
   "source": [
    "plt.figure(figsize=(18,6))\n",
    "plt.plot(x_MP, y_MP, 'k-')\n",
    "plt.plot(x_FM, y_FM, 'r-')\n",
    "plt.ylabel(\"No. of Wikipedia Edits\")\n",
    "plt.title(\"Daily Counts for Manny Pacquiao (Black) and Floyd Mayweather Jr. (Red)\")\n",
    "plt.minorticks_on()\n",
    "plt.xlim((date_start, date_end))\n",
    "plt.ylim((0, 55))\n",
    "plt.legend(fontsize=14)"
   ]
  },
  {
   "cell_type": "code",
   "execution_count": 70,
   "metadata": {},
   "outputs": [],
   "source": [
    "date_ref = pd.to_datetime(\"2015/05/02\")"
   ]
  },
  {
   "cell_type": "code",
   "execution_count": 71,
   "metadata": {},
   "outputs": [],
   "source": [
    "label_ref = \"The Fight of the Century\""
   ]
  },
  {
   "cell_type": "code",
   "execution_count": 72,
   "metadata": {},
   "outputs": [],
   "source": [
    "date_num_ref = matplotlib.dates.date2num(date_ref)"
   ]
  },
  {
   "cell_type": "code",
   "execution_count": 74,
   "metadata": {},
   "outputs": [
    {
     "name": "stderr",
     "output_type": "stream",
     "text": [
      "No handles with labels found to put in legend.\n"
     ]
    },
    {
     "data": {
      "image/png": "[encoded data removed]",
      "text/plain": [
       "<Figure size 1296x432 with 1 Axes>"
      ]
     },
     "metadata": {
      "needs_background": "light"
     },
     "output_type": "display_data"
    }
   ],
   "source": [
    "plt.figure(figsize=(18,6))\n",
    "plt.plot(x_MP, y_MP, 'k-')\n",
    "plt.plot(x_FM, y_FM, 'r-')\n",
    "plt.ylabel(\"No. of Wikipedia Edits\")\n",
    "plt.title(\"Daily Counts for Manny Pacquiao (Black) and Floyd Mayweather Jr. (Red)\")\n",
    "plt.minorticks_on()\n",
    "plt.xlim((date_start, date_end))\n",
    "plt.ylim((0, 55))\n",
    "plt.legend()\n",
    "plt.axvline(date_ref, color = \"gray\", ls=\"--\")\n",
    "plt.text(date_num_ref, 53, label_ref, rotation = 90, horizontalalignment = \"right\")\n",
    "plt.savefig(\"fig/fig_timeseries_Pacquio_Mayweather.png\", dpi = 200, box_inches = \"tight\")"
   ]
  },
  {
   "cell_type": "code",
   "execution_count": null,
   "metadata": {},
   "outputs": [],
   "source": []
  }
 ],
 "metadata": {
  "kernelspec": {
   "display_name": "Python 3",
   "language": "python",
   "name": "python3"
  },
  "language_info": {
   "codemirror_mode": {
    "name": "ipython",
    "version": 3
   },
   "file_extension": ".py",
   "mimetype": "text/x-python",
   "name": "python",
   "nbconvert_exporter": "python",
   "pygments_lexer": "ipython3",
   "version": "3.7.4"
  }
 },
 "nbformat": 4,
 "nbformat_minor": 2
}
